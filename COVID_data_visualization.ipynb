{
 "cells": [
  {
   "cell_type": "code",
   "execution_count": 164,
   "metadata": {},
   "outputs": [],
   "source": [
    "import numpy as np\n",
    "import hvplot.pandas\n",
    "import hvplot as hv\n",
    "import seaborn as sns\n",
    "import matplotlib.pyplot as plt\n",
    "import panel as pn\n",
    "import pandas as pd"
   ]
  },
  {
   "cell_type": "code",
   "execution_count": 180,
   "metadata": {},
   "outputs": [],
   "source": [
    "df = pd.read_csv('./world_wide_COVID_data_daily_data.csv')\n",
    "df = df.sort_values(['year','month','day'])"
   ]
  },
  {
   "cell_type": "code",
   "execution_count": 181,
   "metadata": {},
   "outputs": [],
   "source": [
    "countries_options = sorted(df['countriesAndTerritories'].unique().tolist())\n",
    "continents_options = sorted(df['continentExp'].unique().tolist())"
   ]
  },
  {
   "cell_type": "code",
   "execution_count": 182,
   "metadata": {},
   "outputs": [
    {
     "data": {},
     "metadata": {},
     "output_type": "display_data"
    },
    {
     "data": {},
     "metadata": {},
     "output_type": "display_data"
    },
    {
     "data": {
      "application/vnd.holoviews_exec.v0+json": "",
      "text/html": [
       "<div id='34706'>\n",
       "\n",
       "\n",
       "\n",
       "\n",
       "\n",
       "  <div class=\"bk-root\" id=\"00a6ca1d-eeef-4869-9263-aa9708618171\" data-root-id=\"34706\"></div>\n",
       "</div>\n",
       "<script type=\"application/javascript\">(function(root) {\n",
       "  function embed_document(root) {\n",
       "    var docs_json = {\"7ba10e5f-bb6d-4e0f-9093-8981db02d8a9\":{\"defs\":[{\"extends\":null,\"module\":null,\"name\":\"ReactiveHTML1\",\"overrides\":[],\"properties\":[]},{\"extends\":null,\"module\":null,\"name\":\"FlexBox1\",\"overrides\":[],\"properties\":[{\"default\":\"flex-start\",\"kind\":null,\"name\":\"align_content\"},{\"default\":\"flex-start\",\"kind\":null,\"name\":\"align_items\"},{\"default\":\"row\",\"kind\":null,\"name\":\"flex_direction\"},{\"default\":\"wrap\",\"kind\":null,\"name\":\"flex_wrap\"},{\"default\":\"flex-start\",\"kind\":null,\"name\":\"justify_content\"}]},{\"extends\":null,\"module\":null,\"name\":\"TemplateActions1\",\"overrides\":[],\"properties\":[{\"default\":0,\"kind\":null,\"name\":\"open_modal\"},{\"default\":0,\"kind\":null,\"name\":\"close_modal\"}]},{\"extends\":null,\"module\":null,\"name\":\"MaterialTemplateActions1\",\"overrides\":[],\"properties\":[{\"default\":0,\"kind\":null,\"name\":\"open_modal\"},{\"default\":0,\"kind\":null,\"name\":\"close_modal\"}]}],\"roots\":{\"references\":[{\"attributes\":{\"margin\":[5,10,5,10],\"options\":[\"Afghanistan\",\"Albania\",\"Algeria\",\"Andorra\",\"Angola\",\"Anguilla\",\"Antigua_and_Barbuda\",\"Argentina\",\"Armenia\",\"Aruba\",\"Australia\",\"Austria\",\"Azerbaijan\",\"Bahamas\",\"Bahrain\",\"Bangladesh\",\"Barbados\",\"Belarus\",\"Belgium\",\"Belize\",\"Benin\",\"Bermuda\",\"Bhutan\",\"Bolivia\",\"Bonaire, Saint Eustatius and Saba\",\"Bosnia_and_Herzegovina\",\"Botswana\",\"Brazil\",\"British_Virgin_Islands\",\"Brunei_Darussalam\",\"Bulgaria\",\"Burkina_Faso\",\"Burundi\",\"Cambodia\",\"Cameroon\",\"Canada\",\"Cape_Verde\",\"Cases_on_an_international_conveyance_Japan\",\"Cayman_Islands\",\"Central_African_Republic\",\"Chad\",\"Chile\",\"China\",\"Colombia\",\"Comoros\",\"Congo\",\"Costa_Rica\",\"Cote_dIvoire\",\"Croatia\",\"Cuba\",\"Cura\\u00e7ao\",\"Cyprus\",\"Czechia\",\"Democratic_Republic_of_the_Congo\",\"Denmark\",\"Djibouti\",\"Dominica\",\"Dominican_Republic\",\"Ecuador\",\"Egypt\",\"El_Salvador\",\"Equatorial_Guinea\",\"Eritrea\",\"Estonia\",\"Eswatini\",\"Ethiopia\",\"Falkland_Islands_(Malvinas)\",\"Faroe_Islands\",\"Fiji\",\"Finland\",\"France\",\"French_Polynesia\",\"Gabon\",\"Gambia\",\"Georgia\",\"Germany\",\"Ghana\",\"Gibraltar\",\"Greece\",\"Greenland\",\"Grenada\",\"Guam\",\"Guatemala\",\"Guernsey\",\"Guinea\",\"Guinea_Bissau\",\"Guyana\",\"Haiti\",\"Holy_See\",\"Honduras\",\"Hungary\",\"Iceland\",\"India\",\"Indonesia\",\"Iran\",\"Iraq\",\"Ireland\",\"Isle_of_Man\",\"Israel\",\"Italy\",\"Jamaica\",\"Japan\",\"Jersey\",\"Jordan\",\"Kazakhstan\",\"Kenya\",\"Kosovo\",\"Kuwait\",\"Kyrgyzstan\",\"Laos\",\"Latvia\",\"Lebanon\",\"Lesotho\",\"Liberia\",\"Libya\",\"Liechtenstein\",\"Lithuania\",\"Luxembourg\",\"Madagascar\",\"Malawi\",\"Malaysia\",\"Maldives\",\"Mali\",\"Malta\",\"Marshall_Islands\",\"Mauritania\",\"Mauritius\",\"Mexico\",\"Moldova\",\"Monaco\",\"Mongolia\",\"Montenegro\",\"Montserrat\",\"Morocco\",\"Mozambique\",\"Myanmar\",\"Namibia\",\"Nepal\",\"Netherlands\",\"New_Caledonia\",\"New_Zealand\",\"Nicaragua\",\"Niger\",\"Nigeria\",\"North_Macedonia\",\"Northern_Mariana_Islands\",\"Norway\",\"Oman\",\"Pakistan\",\"Palestine\",\"Panama\",\"Papua_New_Guinea\",\"Paraguay\",\"Peru\",\"Philippines\",\"Poland\",\"Portugal\",\"Puerto_Rico\",\"Qatar\",\"Romania\",\"Russia\",\"Rwanda\",\"Saint_Kitts_and_Nevis\",\"Saint_Lucia\",\"Saint_Vincent_and_the_Grenadines\",\"San_Marino\",\"Sao_Tome_and_Principe\",\"Saudi_Arabia\",\"Senegal\",\"Serbia\",\"Seychelles\",\"Sierra_Leone\",\"Singapore\",\"Sint_Maarten\",\"Slovakia\",\"Slovenia\",\"Solomon_Islands\",\"Somalia\",\"South_Africa\",\"South_Korea\",\"South_Sudan\",\"Spain\",\"Sri_Lanka\",\"Sudan\",\"Suriname\",\"Sweden\",\"Switzerland\",\"Syria\",\"Taiwan\",\"Tajikistan\",\"Thailand\",\"Timor_Leste\",\"Togo\",\"Trinidad_and_Tobago\",\"Tunisia\",\"Turkey\",\"Turks_and_Caicos_islands\",\"Uganda\",\"Ukraine\",\"United_Arab_Emirates\",\"United_Kingdom\",\"United_Republic_of_Tanzania\",\"United_States_Virgin_Islands\",\"United_States_of_America\",\"Uruguay\",\"Uzbekistan\",\"Vanuatu\",\"Venezuela\",\"Vietnam\",\"Wallis_and_Futuna\",\"Western_Sahara\",\"Yemen\",\"Zambia\",\"Zimbabwe\"],\"size\":8,\"title\":\"Countries\",\"value\":[\"China\"]},\"id\":\"34709\",\"type\":\"MultiSelect\"},{\"attributes\":{\"axis_label\":\"cases\",\"coordinates\":null,\"formatter\":{\"id\":\"34749\"},\"group\":null,\"major_label_policy\":{\"id\":\"34750\"},\"ticker\":{\"id\":\"34729\"}},\"id\":\"34728\",\"type\":\"LinearAxis\"},{\"attributes\":{\"client_comm_id\":\"015df3f222e64f4c8825328930906c43\",\"comm_id\":\"08edea850d36497a806df85c52eba67a\",\"plot_id\":\"34706\"},\"id\":\"34892\",\"type\":\"panel.models.comm_manager.CommManager\"},{\"attributes\":{},\"id\":\"34746\",\"type\":\"CategoricalTickFormatter\"},{\"attributes\":{\"children\":[{\"id\":\"34707\"},{\"id\":\"34712\"}],\"margin\":[0,0,0,0],\"name\":\"Row70336\"},\"id\":\"34706\",\"type\":\"Row\"},{\"attributes\":{\"data\":{\"cases\":{\"__ndarray__\":\"AAAAAAAAAAAAAAAAAAAAAAAAAAAAADFAAAAAAAAAAAAAAAAAAAAuQAAAAAAAAAAAAAAAAAAAAAAAAAAAAAAAAAAAAAAAAAAAAAAAAAAAAAAAAAAAAAAAAAAAAAAAAAAAAAAAAAAAAAAAAAAAAAAAAAAAAAAAAAAAAAAAAAAAAAAAAAAAAAAQQAAAAAAAADFAAAAAAAAAYUAAAAAAAAAzQAAAAAAA4GJAAAAAAACAYUAAAAAAAEBYQAAAAAAAMHBAAAAAAACQe0AAAAAAAMiEQAAAAAAAmIhAAAAAAABkm0AAAAAAAOiWQAAAAAAAMJtAAAAAAADwnkA=\",\"dtype\":\"float64\",\"order\":\"little\",\"shape\":[31]},\"countriesAndTerritories\":[\"China\",\"China\",\"China\",\"China\",\"China\",\"China\",\"China\",\"China\",\"China\",\"China\",\"China\",\"China\",\"China\",\"China\",\"China\",\"China\",\"China\",\"China\",\"China\",\"China\",\"China\",\"China\",\"China\",\"China\",\"China\",\"China\",\"China\",\"China\",\"China\",\"China\",\"China\"],\"dateRep\":[\"01/01/2020\",\"02/01/2020\",\"03/01/2020\",\"04/01/2020\",\"05/01/2020\",\"06/01/2020\",\"07/01/2020\",\"08/01/2020\",\"09/01/2020\",\"10/01/2020\",\"11/01/2020\",\"12/01/2020\",\"13/01/2020\",\"14/01/2020\",\"15/01/2020\",\"16/01/2020\",\"17/01/2020\",\"18/01/2020\",\"19/01/2020\",\"20/01/2020\",\"21/01/2020\",\"22/01/2020\",\"23/01/2020\",\"24/01/2020\",\"25/01/2020\",\"26/01/2020\",\"27/01/2020\",\"28/01/2020\",\"29/01/2020\",\"30/01/2020\",\"31/01/2020\"]},\"selected\":{\"id\":\"34752\"},\"selection_policy\":{\"id\":\"34766\"}},\"id\":\"34751\",\"type\":\"ColumnDataSource\"},{\"attributes\":{},\"id\":\"34729\",\"type\":\"BasicTicker\"},{\"attributes\":{\"axis\":{\"id\":\"34725\"},\"coordinates\":null,\"grid_line_color\":null,\"group\":null,\"ticker\":null},\"id\":\"34727\",\"type\":\"Grid\"},{\"attributes\":{\"end\":2178.0,\"reset_end\":2178.0,\"reset_start\":-198.0,\"start\":-198.0,\"tags\":[[[\"cases\",\"cases\",null]]]},\"id\":\"34714\",\"type\":\"Range1d\"},{\"attributes\":{},\"id\":\"34747\",\"type\":\"AllLabels\"},{\"attributes\":{},\"id\":\"34726\",\"type\":\"CategoricalTicker\"},{\"attributes\":{\"axis\":{\"id\":\"34728\"},\"coordinates\":null,\"dimension\":1,\"grid_line_color\":null,\"group\":null,\"ticker\":null},\"id\":\"34731\",\"type\":\"Grid\"},{\"attributes\":{\"end\":12,\"margin\":[5,10,5,10],\"start\":1,\"title\":\"Months\",\"value\":[1,2]},\"id\":\"34710\",\"type\":\"RangeSlider\"},{\"attributes\":{},\"id\":\"34749\",\"type\":\"BasicTickFormatter\"},{\"attributes\":{},\"id\":\"34750\",\"type\":\"AllLabels\"},{\"attributes\":{},\"id\":\"34723\",\"type\":\"LinearScale\"},{\"attributes\":{\"margin\":[5,10,5,10],\"options\":[\"Africa\",\"America\",\"Asia\",\"Europe\",\"Oceania\",\"Other\"],\"size\":8,\"title\":\"Continents\",\"value\":[\"Asia\"]},\"id\":\"34708\",\"type\":\"MultiSelect\"},{\"attributes\":{\"children\":[{\"id\":\"34716\"}],\"margin\":[0,0,0,0],\"name\":\"Row70233\"},\"id\":\"34712\",\"type\":\"Row\"},{\"attributes\":{\"coordinates\":null,\"group\":null,\"text\":\"cases\",\"text_color\":\"black\",\"text_font_size\":\"12pt\"},\"id\":\"34717\",\"type\":\"Title\"},{\"attributes\":{\"callback\":null,\"renderers\":[{\"id\":\"34757\"}],\"tags\":[\"hv_created\"],\"tooltips\":[[\"countriesAndTerritories\",\"@{countriesAndTerritories}\"],[\"dateRep\",\"@{dateRep}\"],[\"cases\",\"@{cases}\"]]},\"id\":\"34715\",\"type\":\"HoverTool\"},{\"attributes\":{},\"id\":\"34736\",\"type\":\"ResetTool\"},{\"attributes\":{},\"id\":\"34766\",\"type\":\"UnionRenderers\"},{\"attributes\":{\"line_alpha\":0.1,\"line_color\":\"#30a2da\",\"line_width\":2,\"x\":{\"field\":\"dateRep\"},\"y\":{\"field\":\"cases\"}},\"id\":\"34755\",\"type\":\"Line\"},{\"attributes\":{\"children\":[{\"id\":\"34708\"},{\"id\":\"34709\"},{\"id\":\"34710\"},{\"id\":\"34711\"}],\"css_classes\":[\"panel-widget-box\"],\"margin\":[5,5,5,5],\"name\":\"WidgetBox70228\"},\"id\":\"34707\",\"type\":\"Column\"},{\"attributes\":{\"line_alpha\":0.2,\"line_color\":\"#30a2da\",\"line_width\":2,\"x\":{\"field\":\"dateRep\"},\"y\":{\"field\":\"cases\"}},\"id\":\"34756\",\"type\":\"Line\"},{\"attributes\":{\"overlay\":{\"id\":\"34737\"}},\"id\":\"34735\",\"type\":\"BoxZoomTool\"},{\"attributes\":{\"tools\":[{\"id\":\"34715\"},{\"id\":\"34732\"},{\"id\":\"34733\"},{\"id\":\"34734\"},{\"id\":\"34735\"},{\"id\":\"34736\"}]},\"id\":\"34738\",\"type\":\"Toolbar\"},{\"attributes\":{\"coordinates\":null,\"data_source\":{\"id\":\"34751\"},\"glyph\":{\"id\":\"34754\"},\"group\":null,\"hover_glyph\":null,\"muted_glyph\":{\"id\":\"34756\"},\"nonselection_glyph\":{\"id\":\"34755\"},\"selection_glyph\":{\"id\":\"34771\"},\"view\":{\"id\":\"34758\"}},\"id\":\"34757\",\"type\":\"GlyphRenderer\"},{\"attributes\":{\"factors\":[\"01/01/2020\",\"02/01/2020\",\"03/01/2020\",\"04/01/2020\",\"05/01/2020\",\"06/01/2020\",\"07/01/2020\",\"08/01/2020\",\"09/01/2020\",\"10/01/2020\",\"11/01/2020\",\"12/01/2020\",\"13/01/2020\",\"14/01/2020\",\"15/01/2020\",\"16/01/2020\",\"17/01/2020\",\"18/01/2020\",\"19/01/2020\",\"20/01/2020\",\"21/01/2020\",\"22/01/2020\",\"23/01/2020\",\"24/01/2020\",\"25/01/2020\",\"26/01/2020\",\"27/01/2020\",\"28/01/2020\",\"29/01/2020\",\"30/01/2020\",\"31/01/2020\"],\"tags\":[[[\"dateRep\",\"dateRep\",null]]]},\"id\":\"34713\",\"type\":\"FactorRange\"},{\"attributes\":{\"coordinates\":null,\"group\":null,\"items\":[]},\"id\":\"34769\",\"type\":\"Legend\"},{\"attributes\":{},\"id\":\"34732\",\"type\":\"SaveTool\"},{\"attributes\":{},\"id\":\"34733\",\"type\":\"PanTool\"},{\"attributes\":{\"line_color\":\"#30a2da\",\"line_width\":2,\"x\":{\"field\":\"dateRep\"},\"y\":{\"field\":\"cases\"}},\"id\":\"34771\",\"type\":\"Line\"},{\"attributes\":{\"line_color\":\"#30a2da\",\"line_width\":2,\"x\":{\"field\":\"dateRep\"},\"y\":{\"field\":\"cases\"}},\"id\":\"34754\",\"type\":\"Line\"},{\"attributes\":{},\"id\":\"34721\",\"type\":\"CategoricalScale\"},{\"attributes\":{},\"id\":\"34752\",\"type\":\"Selection\"},{\"attributes\":{\"source\":{\"id\":\"34751\"}},\"id\":\"34758\",\"type\":\"CDSView\"},{\"attributes\":{},\"id\":\"34734\",\"type\":\"WheelZoomTool\"},{\"attributes\":{\"below\":[{\"id\":\"34725\"}],\"center\":[{\"id\":\"34727\"},{\"id\":\"34731\"},{\"id\":\"34769\"}],\"height\":400,\"left\":[{\"id\":\"34728\"}],\"margin\":[5,5,5,5],\"min_border_bottom\":10,\"min_border_left\":10,\"min_border_right\":10,\"min_border_top\":10,\"renderers\":[{\"id\":\"34757\"}],\"sizing_mode\":\"fixed\",\"title\":{\"id\":\"34717\"},\"toolbar\":{\"id\":\"34738\"},\"x_range\":{\"id\":\"34713\"},\"x_scale\":{\"id\":\"34721\"},\"y_range\":{\"id\":\"34714\"},\"y_scale\":{\"id\":\"34723\"}},\"id\":\"34716\",\"subtype\":\"Figure\",\"type\":\"Plot\"},{\"attributes\":{\"active\":0,\"labels\":[\"cases\",\"deaths\"],\"margin\":[5,10,5,10]},\"id\":\"34711\",\"type\":\"RadioButtonGroup\"},{\"attributes\":{\"axis_label\":\"Date\",\"coordinates\":null,\"formatter\":{\"id\":\"34746\"},\"group\":null,\"major_label_orientation\":1.5707963267948966,\"major_label_policy\":{\"id\":\"34747\"},\"ticker\":{\"id\":\"34726\"}},\"id\":\"34725\",\"type\":\"CategoricalAxis\"},{\"attributes\":{\"bottom_units\":\"screen\",\"coordinates\":null,\"fill_alpha\":0.5,\"fill_color\":\"lightgrey\",\"group\":null,\"left_units\":\"screen\",\"level\":\"overlay\",\"line_alpha\":1.0,\"line_color\":\"black\",\"line_dash\":[4,4],\"line_width\":2,\"right_units\":\"screen\",\"syncable\":false,\"top_units\":\"screen\"},\"id\":\"34737\",\"type\":\"BoxAnnotation\"}],\"root_ids\":[\"34706\",\"34892\"]},\"title\":\"Bokeh Application\",\"version\":\"2.4.2\"}};\n",
       "    var render_items = [{\"docid\":\"7ba10e5f-bb6d-4e0f-9093-8981db02d8a9\",\"root_ids\":[\"34706\"],\"roots\":{\"34706\":\"00a6ca1d-eeef-4869-9263-aa9708618171\"}}];\n",
       "    root.Bokeh.embed.embed_items_notebook(docs_json, render_items);\n",
       "  }\n",
       "  if (root.Bokeh !== undefined && root.Bokeh.Panel !== undefined) {\n",
       "    embed_document(root);\n",
       "  } else {\n",
       "    var attempts = 0;\n",
       "    var timer = setInterval(function(root) {\n",
       "      if (root.Bokeh !== undefined && root.Bokeh.Panel !== undefined) {\n",
       "        clearInterval(timer);\n",
       "        embed_document(root);\n",
       "      } else if (document.readyState == \"complete\") {\n",
       "        attempts++;\n",
       "        if (attempts > 200) {\n",
       "          clearInterval(timer);\n",
       "          console.log(\"Bokeh: ERROR: Unable to run BokehJS code because BokehJS library is missing\");\n",
       "        }\n",
       "      }\n",
       "    }, 25, root)\n",
       "  }\n",
       "})(window);</script>"
      ],
      "text/plain": [
       "Row\n",
       "    [0] WidgetBox\n",
       "        [0] MultiSelect(name='Continents', options=['Africa', 'America', ...], size=8, value=['Asia'])\n",
       "        [1] MultiSelect(name='Countries', options=['Afghanistan', ...], size=8, value=['China'])\n",
       "        [2] IntRangeSlider(end=12, name='Months', start=1, value=(1, 2), value_end=2, value_start=1)\n",
       "        [3] RadioButtonGroup(name='Data to plot', options=['cases', 'deaths'], value='cases')\n",
       "    [1] ParamFunction(function)"
      ]
     },
     "execution_count": 182,
     "metadata": {
      "application/vnd.holoviews_exec.v0+json": {
       "id": "34706"
      }
     },
     "output_type": "execute_result"
    }
   ],
   "source": [
    "# widgets\n",
    "continents = pn.widgets.MultiSelect(name='Continents', value=['Asia'],\n",
    "    options= continents_options, size=8)\n",
    "\n",
    "countries = pn.widgets.MultiSelect(name='Countries', value=['China'],\n",
    "    options= countries_options, size=8)\n",
    "\n",
    "months = pn.widgets.IntRangeSlider(\n",
    "    name='Months',\n",
    "    start=1, end=12, value=(1, 2), step=1)\n",
    "\n",
    "data_to_plot = pn.widgets.RadioButtonGroup(\n",
    "    name= \"Data to plot\", options=['cases', 'deaths'])\n",
    "\n",
    "@pn.depends(continents,watch = True)\n",
    "def update_countries(continents):\n",
    "    df_select = df[df['continentExp'].isin(continents)]\n",
    "    countries.options = sorted(df_select['countriesAndTerritories'].unique().tolist())\n",
    "\n",
    "@pn.depends(countries,months,data_to_plot)\n",
    "def make_plot(countries,months,data_to_plot):\n",
    "    df_select = df[df['countriesAndTerritories'].isin(countries)]\n",
    "    df_select = df_select[df_select['month'].isin(range(months[0],months[1]))]\n",
    "    plot = df_select.hvplot.line(x = 'dateRep', y = data_to_plot, xlabel = 'Date',\n",
    "                                 by = 'countriesAndTerritories', title = data_to_plot,rot=90,\n",
    "                                width = 600,height = 400)\n",
    "    return plot\n",
    "\n",
    "pn.Row(pn.WidgetBox(continents,countries,months,data_to_plot),make_plot).servable()\n"
   ]
  },
  {
   "cell_type": "code",
   "execution_count": null,
   "metadata": {},
   "outputs": [],
   "source": []
  }
 ],
 "metadata": {
  "kernelspec": {
   "display_name": "Python 3 (ipykernel)",
   "language": "python",
   "name": "python3"
  },
  "language_info": {
   "codemirror_mode": {
    "name": "ipython",
    "version": 3
   },
   "file_extension": ".py",
   "mimetype": "text/x-python",
   "name": "python",
   "nbconvert_exporter": "python",
   "pygments_lexer": "ipython3",
   "version": "3.10.0"
  }
 },
 "nbformat": 4,
 "nbformat_minor": 4
}
