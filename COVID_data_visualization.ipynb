{
 "cells": [
  {
   "cell_type": "code",
   "execution_count": 188,
   "metadata": {},
   "outputs": [],
   "source": [
    "import numpy as np\n",
    "import hvplot.pandas\n",
    "import hvplot as hv\n",
    "import seaborn as sns\n",
    "import matplotlib.pyplot as plt\n",
    "import panel as pn\n",
    "import pandas as pd"
   ]
  },
  {
   "cell_type": "code",
   "execution_count": 189,
   "metadata": {},
   "outputs": [],
   "source": [
    "df = pd.read_csv('./world_wide_COVID_data_daily_data.csv')\n",
    "df = df.sort_values(['year','month','day'])"
   ]
  },
  {
   "cell_type": "code",
   "execution_count": 190,
   "metadata": {},
   "outputs": [],
   "source": [
    "countries_options = sorted(df['countriesAndTerritories'].unique().tolist())\n",
    "continents_options = sorted(df['continentExp'].unique().tolist())"
   ]
  },
  {
   "cell_type": "code",
   "execution_count": 197,
   "metadata": {},
   "outputs": [
    {
     "name": "stdout",
     "output_type": "stream",
     "text": [
      "Launching server at http://localhost:64833\n"
     ]
    }
   ],
   "source": [
    "# widgets\n",
    "continents = pn.widgets.MultiSelect(name='Continents', value=['Asia'],\n",
    "    options= continents_options, size=8)\n",
    "\n",
    "countries = pn.widgets.MultiSelect(name='Countries', value=['China'],\n",
    "    options= countries_options, size=8)\n",
    "\n",
    "months = pn.widgets.IntRangeSlider(\n",
    "    name='Months',\n",
    "    start=1, end=12, value=(1, 2), step=1)\n",
    "\n",
    "data_to_plot = pn.widgets.RadioButtonGroup(\n",
    "    name= \"Data to plot\", options=['cases', 'deaths'])\n",
    "\n",
    "@pn.depends(continents,watch = True)\n",
    "def update_countries(continents):\n",
    "    df_select = df[df['continentExp'].isin(continents)]\n",
    "    countries.options = sorted(df_select['countriesAndTerritories'].unique().tolist())\n",
    "\n",
    "@pn.depends(countries,months,data_to_plot)\n",
    "def make_plot(countries,months,data_to_plot):\n",
    "    df_select = df[df['countriesAndTerritories'].isin(countries)]\n",
    "    df_select = df_select[df_select['month'].isin(range(months[0],months[1]))]\n",
    "    plot = df_select.hvplot.line(x = 'dateRep', y = data_to_plot, xlabel = 'Date',\n",
    "                                 by = 'countriesAndTerritories', title = data_to_plot,rot=90,\n",
    "                                width = 600,height = 400)\n",
    "    return plot\n",
    "\n",
    "\n",
    "template = pn.template.FastListTemplate(\n",
    "    site=\"MED5018\", title=\"COVID19 data\",\n",
    "    sidebar=[\"## Settings\", pn.WidgetBox(continents,countries,months,data_to_plot)],\n",
    "    main=['''# Dear Angel\\n a greating from Ruilin''',make_plot]).servable()"
   ]
  },
  {
   "cell_type": "code",
   "execution_count": null,
   "metadata": {},
   "outputs": [],
   "source": []
  }
 ],
 "metadata": {
  "kernelspec": {
   "display_name": "Python 3 (ipykernel)",
   "language": "python",
   "name": "python3"
  },
  "language_info": {
   "codemirror_mode": {
    "name": "ipython",
    "version": 3
   },
   "file_extension": ".py",
   "mimetype": "text/x-python",
   "name": "python",
   "nbconvert_exporter": "python",
   "pygments_lexer": "ipython3",
   "version": "3.10.0"
  }
 },
 "nbformat": 4,
 "nbformat_minor": 4
}
